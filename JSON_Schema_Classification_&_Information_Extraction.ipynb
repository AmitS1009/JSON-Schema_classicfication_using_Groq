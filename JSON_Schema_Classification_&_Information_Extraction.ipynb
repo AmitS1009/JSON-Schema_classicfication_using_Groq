{
  "nbformat": 4,
  "nbformat_minor": 0,
  "metadata": {
    "colab": {
      "provenance": []
    },
    "kernelspec": {
      "name": "python3",
      "display_name": "Python 3"
    },
    "language_info": {
      "name": "python"
    }
  },
  "cells": [
    {
      "cell_type": "code",
      "source": [
        "!pip install groq"
      ],
      "metadata": {
        "colab": {
          "base_uri": "https://localhost:8080/"
        },
        "id": "D3jClsLPLESA",
        "outputId": "2939b3b7-c784-4476-9446-47630d09c8d1"
      },
      "execution_count": 2,
      "outputs": [
        {
          "output_type": "stream",
          "name": "stdout",
          "text": [
            "Collecting groq\n",
            "  Downloading groq-0.31.1-py3-none-any.whl.metadata (16 kB)\n",
            "Requirement already satisfied: anyio<5,>=3.5.0 in /usr/local/lib/python3.12/dist-packages (from groq) (4.10.0)\n",
            "Requirement already satisfied: distro<2,>=1.7.0 in /usr/local/lib/python3.12/dist-packages (from groq) (1.9.0)\n",
            "Requirement already satisfied: httpx<1,>=0.23.0 in /usr/local/lib/python3.12/dist-packages (from groq) (0.28.1)\n",
            "Requirement already satisfied: pydantic<3,>=1.9.0 in /usr/local/lib/python3.12/dist-packages (from groq) (2.11.7)\n",
            "Requirement already satisfied: sniffio in /usr/local/lib/python3.12/dist-packages (from groq) (1.3.1)\n",
            "Requirement already satisfied: typing-extensions<5,>=4.10 in /usr/local/lib/python3.12/dist-packages (from groq) (4.15.0)\n",
            "Requirement already satisfied: idna>=2.8 in /usr/local/lib/python3.12/dist-packages (from anyio<5,>=3.5.0->groq) (3.10)\n",
            "Requirement already satisfied: certifi in /usr/local/lib/python3.12/dist-packages (from httpx<1,>=0.23.0->groq) (2025.8.3)\n",
            "Requirement already satisfied: httpcore==1.* in /usr/local/lib/python3.12/dist-packages (from httpx<1,>=0.23.0->groq) (1.0.9)\n",
            "Requirement already satisfied: h11>=0.16 in /usr/local/lib/python3.12/dist-packages (from httpcore==1.*->httpx<1,>=0.23.0->groq) (0.16.0)\n",
            "Requirement already satisfied: annotated-types>=0.6.0 in /usr/local/lib/python3.12/dist-packages (from pydantic<3,>=1.9.0->groq) (0.7.0)\n",
            "Requirement already satisfied: pydantic-core==2.33.2 in /usr/local/lib/python3.12/dist-packages (from pydantic<3,>=1.9.0->groq) (2.33.2)\n",
            "Requirement already satisfied: typing-inspection>=0.4.0 in /usr/local/lib/python3.12/dist-packages (from pydantic<3,>=1.9.0->groq) (0.4.1)\n",
            "Downloading groq-0.31.1-py3-none-any.whl (134 kB)\n",
            "\u001b[2K   \u001b[90m━━━━━━━━━━━━━━━━━━━━━━━━━━━━━━━━━━━━━━━━\u001b[0m \u001b[32m134.9/134.9 kB\u001b[0m \u001b[31m3.1 MB/s\u001b[0m eta \u001b[36m0:00:00\u001b[0m\n",
            "\u001b[?25hInstalling collected packages: groq\n",
            "Successfully installed groq-0.31.1\n"
          ]
        }
      ]
    },
    {
      "cell_type": "code",
      "source": [
        "!pip install jsonschema"
      ],
      "metadata": {
        "colab": {
          "base_uri": "https://localhost:8080/"
        },
        "id": "Cmf5_89kLM3r",
        "outputId": "3e0fefc1-881a-4e2e-8c5e-2659b3dd5c1b"
      },
      "execution_count": 4,
      "outputs": [
        {
          "output_type": "stream",
          "name": "stdout",
          "text": [
            "Requirement already satisfied: jsonschema in /usr/local/lib/python3.12/dist-packages (4.25.1)\n",
            "Requirement already satisfied: attrs>=22.2.0 in /usr/local/lib/python3.12/dist-packages (from jsonschema) (25.3.0)\n",
            "Requirement already satisfied: jsonschema-specifications>=2023.03.6 in /usr/local/lib/python3.12/dist-packages (from jsonschema) (2025.4.1)\n",
            "Requirement already satisfied: referencing>=0.28.4 in /usr/local/lib/python3.12/dist-packages (from jsonschema) (0.36.2)\n",
            "Requirement already satisfied: rpds-py>=0.7.1 in /usr/local/lib/python3.12/dist-packages (from jsonschema) (0.27.1)\n",
            "Requirement already satisfied: typing-extensions>=4.4.0 in /usr/local/lib/python3.12/dist-packages (from referencing>=0.28.4->jsonschema) (4.15.0)\n"
          ]
        }
      ]
    },
    {
      "cell_type": "code",
      "source": [
        "import json\n",
        "from groq import Groq\n",
        "import os"
      ],
      "metadata": {
        "id": "rbFxkXrILP54"
      },
      "execution_count": 5,
      "outputs": []
    },
    {
      "cell_type": "code",
      "source": [
        "#  SETUP\n",
        "os.environ[\"GROQ_API_KEY\"] = \"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\"\n",
        "client = Groq(api_key=os.environ[\"GROQ_API_KEY\"])"
      ],
      "metadata": {
        "id": "WB8KPkb5Lfm7"
      },
      "execution_count": 6,
      "outputs": []
    },
    {
      "cell_type": "code",
      "source": [
        "#  JSON SCHEMA FOR EXTRACTION\n",
        "SCHEMA = {\n",
        "    \"type\": \"object\",\n",
        "    \"properties\": {\n",
        "        \"name\": {\"type\": \"string\", \"description\": \"Full name of the person\"},\n",
        "        \"email\": {\"type\": \"string\", \"description\": \"Email address\"},\n",
        "        \"phone\": {\"type\": \"string\", \"description\": \"Phone number with country code if available\"},\n",
        "        \"location\": {\"type\": \"string\", \"description\": \"City, State, or Country\"},\n",
        "        \"age\": {\"type\": \"integer\", \"description\": \"Age in years\"}\n",
        "    },\n",
        "    \"required\": [\"name\", \"email\", \"phone\", \"location\", \"age\"],\n",
        "    \"additionalProperties\": False\n",
        "}"
      ],
      "metadata": {
        "id": "cODEzeF2Lhya"
      },
      "execution_count": 7,
      "outputs": []
    },
    {
      "cell_type": "code",
      "source": [
        "#  FUNCTION DEFINITION FOR GROQ\n",
        "function_def = {\n",
        "    \"name\": \"extract_user_info\",\n",
        "    \"description\": \"Extract structured user information from conversation text\",\n",
        "    \"parameters\": SCHEMA\n",
        "}\n"
      ],
      "metadata": {
        "id": "3vZHdvx5LkhH"
      },
      "execution_count": 8,
      "outputs": []
    },
    {
      "cell_type": "code",
      "source": [
        "#  SAMPLE CHATS\n",
        "chats = [\n",
        "    \"Hi, I'm Rajesh Kumar. My email is rajesh.kumar@email.com. I live in Bangalore and my phone is +91 9876543210. I'm 28 years old.\",\n",
        "    \"Hello! My name is Priya Sharma. You can reach me at priya.sharma@gmail.com. I'm from Delhi, age 32. Call me at 91-8888777766.\",\n",
        "    \"Hey there! I'm Amit Singh. Phone: +1 (555) 123-4567. Email: amit.singh@work.com. I'm 35 and based in San Francisco.\"\n",
        "]"
      ],
      "metadata": {
        "id": "SccDZYxULmvr"
      },
      "execution_count": 9,
      "outputs": []
    },
    {
      "cell_type": "code",
      "source": [
        "#  FUNCTION TO EXTRACT USING GROQ FUNCTION CALLING\n",
        "def extract_with_groq(chat_text):\n",
        "    response = client.chat.completions.create(\n",
        "        model=\"llama-3.1-8b-instant\",\n",
        "        messages=[\n",
        "            {\"role\": \"system\", \"content\": \"You are a helpful assistant that extracts structured user details from chat text.\"},\n",
        "            {\"role\": \"user\", \"content\": chat_text}\n",
        "        ],\n",
        "        functions=[function_def],\n",
        "        function_call={\"name\": \"extract_user_info\"}  # Force call this function\n",
        "    )\n",
        "\n",
        "    # Extract function call result\n",
        "    func_call = response.choices[0].message.function_call\n",
        "    if func_call and func_call.name == \"extract_user_info\":\n",
        "        return json.loads(func_call.arguments)\n",
        "    else:\n",
        "        return {\"error\": \"Function call failed or no valid extraction\"}"
      ],
      "metadata": {
        "id": "_Y-pysF7Lo7o"
      },
      "execution_count": 10,
      "outputs": []
    },
    {
      "cell_type": "code",
      "source": [
        "#  VALIDATION FUNCTION\n",
        "def validate_output(data, schema):\n",
        "    \"\"\"Validate extracted data against JSON schema\"\"\"\n",
        "    try:\n",
        "        from jsonschema import validate, ValidationError\n",
        "        validate(instance=data, schema=schema)\n",
        "        return True, \"Valid\"\n",
        "    except ValidationError as e:\n",
        "        return False, str(e)\n",
        "    except ImportError:\n",
        "        return None, \"jsonschema library not installed (optional validation)\""
      ],
      "metadata": {
        "id": "lwnB_jLFLsdS"
      },
      "execution_count": 13,
      "outputs": []
    },
    {
      "cell_type": "code",
      "source": [
        "# --- RUN FOR ALL CHATS ---\n",
        "print(\"Structured Info Extraction via Groq Function Calling\\n\")\n",
        "\n",
        "for i, chat in enumerate(chats, 1):\n",
        "    print(f\"Chat {i}\")\n",
        "    print(f\"Input: {chat}\\n\")\n",
        "\n",
        "    result = extract_with_groq(chat)\n",
        "    print(f\"Extracted: {json.dumps(result, indent=2)}\\n\")\n",
        "\n",
        "    is_valid, msg = validate_output(result, SCHEMA)\n",
        "    if is_valid is None:\n",
        "        print(f\" Validation skipped (install jsonschema for full validation)\")\n",
        "    elif is_valid:\n",
        "        print(f\" Validated: {msg}\")\n",
        "    else:\n",
        "        print(f\" Invalid: {msg}\")\n",
        "\n",
        "    print(\"-\" * 60)"
      ],
      "metadata": {
        "colab": {
          "base_uri": "https://localhost:8080/"
        },
        "id": "1GpFuyzfLuoy",
        "outputId": "5409bfc1-d1ab-4854-dffe-e7fcd0439ea3"
      },
      "execution_count": 14,
      "outputs": [
        {
          "output_type": "stream",
          "name": "stdout",
          "text": [
            "Structured Info Extraction via Groq Function Calling\n",
            "\n",
            "Chat 1\n",
            "Input: Hi, I'm Rajesh Kumar. My email is rajesh.kumar@email.com. I live in Bangalore and my phone is +91 9876543210. I'm 28 years old.\n",
            "\n",
            "Extracted: {\n",
            "  \"age\": 28,\n",
            "  \"email\": \"rajesh.kumar@email.com\",\n",
            "  \"location\": \"Bangalore\",\n",
            "  \"name\": \"Rajesh Kumar\",\n",
            "  \"phone\": \"+91 9876543210\"\n",
            "}\n",
            "\n",
            " Validated: Valid\n",
            "------------------------------------------------------------\n",
            "Chat 2\n",
            "Input: Hello! My name is Priya Sharma. You can reach me at priya.sharma@gmail.com. I'm from Delhi, age 32. Call me at 91-8888777766.\n",
            "\n",
            "Extracted: {\n",
            "  \"age\": 32,\n",
            "  \"email\": \"priya.sharma@gmail.com\",\n",
            "  \"location\": \"Delhi\",\n",
            "  \"name\": \"Priya Sharma\",\n",
            "  \"phone\": \"91-8888777766\"\n",
            "}\n",
            "\n",
            " Validated: Valid\n",
            "------------------------------------------------------------\n",
            "Chat 3\n",
            "Input: Hey there! I'm Amit Singh. Phone: +1 (555) 123-4567. Email: amit.singh@work.com. I'm 35 and based in San Francisco.\n",
            "\n",
            "Extracted: {\n",
            "  \"age\": 35,\n",
            "  \"email\": \"amit.singh@work.com\",\n",
            "  \"location\": \"San Francisco\",\n",
            "  \"name\": \"Amit Singh\",\n",
            "  \"phone\": \"+1 (555) 123-4567\"\n",
            "}\n",
            "\n",
            " Validated: Valid\n",
            "------------------------------------------------------------\n"
          ]
        }
      ]
    },
    {
      "cell_type": "code",
      "source": [],
      "metadata": {
        "id": "hW91uT9_Lxk8"
      },
      "execution_count": null,
      "outputs": []
    }
  ]
}